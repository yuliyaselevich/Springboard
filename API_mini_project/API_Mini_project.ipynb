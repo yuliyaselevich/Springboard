{
 "cells": [
  {
   "cell_type": "code",
   "execution_count": 1,
   "id": "82a81714",
   "metadata": {},
   "outputs": [],
   "source": [
    "import requests\n",
    "import os\n",
    "from dotenv import load_dotenv\n",
    "import collections\n"
   ]
  },
  {
   "cell_type": "code",
   "execution_count": 2,
   "id": "3ee5ac22",
   "metadata": {},
   "outputs": [],
   "source": [
    "API_KEY = ''"
   ]
  },
  {
   "cell_type": "code",
   "execution_count": 3,
   "id": "5d3cbad5",
   "metadata": {},
   "outputs": [
    {
     "name": "stdout",
     "output_type": "stream",
     "text": [
      "<Response [200]>\n"
     ]
    }
   ],
   "source": [
    "params = dict(key=API_KEY, date='2022-04-06')\n",
    "res = requests.get('https://data.nasdaq.com/api/v3/datasets/FSE/AFX_X',params)\n",
    "\n",
    "print(res)"
   ]
  },
  {
   "cell_type": "code",
   "execution_count": 4,
   "id": "a2bfa158",
   "metadata": {},
   "outputs": [
    {
     "data": {
      "text/plain": [
       "dict_keys(['dataset'])"
      ]
     },
     "execution_count": 4,
     "metadata": {},
     "output_type": "execute_result"
    }
   ],
   "source": [
    "json = res.json()\n",
    "json.keys()"
   ]
  },
  {
   "cell_type": "code",
   "execution_count": 5,
   "id": "1a4802b6",
   "metadata": {},
   "outputs": [],
   "source": [
    "params = dict(start_date='2017-01-01', end_date='2017-12-31', api_key=API_KEY)\n",
    "data_2017 = requests.get('https://data.nasdaq.com/api/v3/datasets/FSE/AFX_X',params)"
   ]
  },
  {
   "cell_type": "code",
   "execution_count": 6,
   "id": "cd6bdeee",
   "metadata": {},
   "outputs": [],
   "source": [
    "data_json = data_2017.json()\n",
    "data_json = dict(data_json['dataset'])"
   ]
  },
  {
   "cell_type": "markdown",
   "id": "85571b9f",
   "metadata": {},
   "source": [
    "These are your tasks for this mini project:\n",
    "\n",
    "Collect data from the Franfurt Stock Exchange, for the ticker AFX_X, for the whole year 2017 (keep in mind that the date format is YYYY-MM-DD).\n",
    "Convert the returned JSON object into a Python dictionary.\n",
    "Calculate what the highest and lowest opening prices were for the stock in this period.\n",
    "What was the largest change in any one day (based on High and Low price)?\n",
    "What was the largest change between any two days (based on Closing Price)?\n",
    "What was the average daily trading volume during this year?\n",
    "(Optional) What was the median trading volume during this year. (Note: you may need to implement your own function for calculating the median.)"
   ]
  },
  {
   "cell_type": "code",
   "execution_count": 7,
   "id": "43ce505c",
   "metadata": {},
   "outputs": [
    {
     "data": {
      "text/plain": [
       "dict"
      ]
     },
     "execution_count": 7,
     "metadata": {},
     "output_type": "execute_result"
    }
   ],
   "source": [
    "type(data_json)"
   ]
  },
  {
   "cell_type": "code",
   "execution_count": 8,
   "id": "dbffe7d0",
   "metadata": {
    "scrolled": true
   },
   "outputs": [
    {
     "data": {
      "text/plain": [
       "dict_keys(['id', 'dataset_code', 'database_code', 'name', 'description', 'refreshed_at', 'newest_available_date', 'oldest_available_date', 'column_names', 'frequency', 'type', 'premium', 'limit', 'transform', 'column_index', 'start_date', 'end_date', 'data', 'collapse', 'order', 'database_id'])"
      ]
     },
     "execution_count": 8,
     "metadata": {},
     "output_type": "execute_result"
    }
   ],
   "source": [
    "data_json.keys()"
   ]
  },
  {
   "cell_type": "code",
   "execution_count": 9,
   "id": "15fa261f",
   "metadata": {},
   "outputs": [
    {
     "data": {
      "text/plain": [
       "['Date',\n",
       " 'Open',\n",
       " 'High',\n",
       " 'Low',\n",
       " 'Close',\n",
       " 'Change',\n",
       " 'Traded Volume',\n",
       " 'Turnover',\n",
       " 'Last Price of the Day',\n",
       " 'Daily Traded Units',\n",
       " 'Daily Turnover']"
      ]
     },
     "execution_count": 9,
     "metadata": {},
     "output_type": "execute_result"
    }
   ],
   "source": [
    "data_json['column_names']"
   ]
  },
  {
   "cell_type": "code",
   "execution_count": 10,
   "id": "fe93cfc1",
   "metadata": {},
   "outputs": [
    {
     "name": "stdout",
     "output_type": "stream",
     "text": [
      "2017-12-14 53.11\n",
      "2017-01-24 34.0\n"
     ]
    }
   ],
   "source": [
    "#Calculate what the highest and lowest opening prices were for the stock in this period.\n",
    "open_values = {}\n",
    "for values in data_json['data']:\n",
    "    if values[0] != None and values[1] != None:\n",
    "        date = values[0]\n",
    "        open_price = values[1]\n",
    "        open_values[date] = open_price\n",
    "maximum = max(open_values, key=open_values.get)\n",
    "print(maximum, open_values[maximum])\n",
    "minimum = min(open_values, key=open_values.get)\n",
    "print(minimum, open_values[minimum])  "
   ]
  },
  {
   "cell_type": "markdown",
   "id": "704a763f",
   "metadata": {},
   "source": [
    "### The highest opening price was 53.11 on 2017-12-14\n",
    "### The lowest opening price was 34.0 on 2017-01-24"
   ]
  },
  {
   "cell_type": "code",
   "execution_count": 11,
   "id": "6a69f880",
   "metadata": {},
   "outputs": [
    {
     "name": "stdout",
     "output_type": "stream",
     "text": [
      "2017-05-11 2.81\n"
     ]
    }
   ],
   "source": [
    "#What was the largest change in any one day (based on High and Low price)?\n",
    "change_values = {}\n",
    "for values in data_json['data']:\n",
    "    #if values[0] != None and values[1] != None:\n",
    "    date = values[0]\n",
    "    change_price = values[2] - values[3]\n",
    "    change_price = float(\"{:.2f}\".format(change_price))\n",
    "    change_values[date] = change_price\n",
    "maximum_change = max(change_values, key=change_values.get)  # Just use 'min' instead of 'max' for minimum.\n",
    "print(maximum_change, change_values[maximum_change])"
   ]
  },
  {
   "cell_type": "markdown",
   "id": "9fd97c2c",
   "metadata": {},
   "source": [
    "### The largest change in any one day was 2.81$ on 2017-05-11"
   ]
  },
  {
   "cell_type": "code",
   "execution_count": 12,
   "id": "19c22a98",
   "metadata": {},
   "outputs": [],
   "source": [
    "#What was the largest change between any two days (based on Closing Price)?\n",
    "closing_values = {}\n",
    "for values in data_json['data']:\n",
    "    #if values[0] != None and values[1] != None:\n",
    "    date = values[0]\n",
    "    closing_price = values[4]\n",
    "    #change_price = float(\"{:.2f}\".format(change_price))\n",
    "    closing_values[date] = closing_price"
   ]
  },
  {
   "cell_type": "code",
   "execution_count": 13,
   "id": "157c8de9",
   "metadata": {},
   "outputs": [
    {
     "data": {
      "text/plain": [
       "2.56"
      ]
     },
     "execution_count": 13,
     "metadata": {},
     "output_type": "execute_result"
    }
   ],
   "source": [
    "values = list(closing_values.values())\n",
    "xdiff = [values[n]-values[n-1] for n in range(1,len(values))]\n",
    "max_diff = float(\"{:.2f}\".format(max(xdiff)))\n",
    "max_diff"
   ]
  },
  {
   "cell_type": "markdown",
   "id": "811e2029",
   "metadata": {},
   "source": [
    "### The largest change between any two days based on Closing price: 2.56$"
   ]
  },
  {
   "cell_type": "code",
   "execution_count": 14,
   "id": "4c0f52a6",
   "metadata": {},
   "outputs": [],
   "source": [
    "#What was the average daily trading volume during this year?\n",
    "trading_volume = {}\n",
    "for values in data_json['data']:\n",
    "    date = values[0]\n",
    "    trading_vol = values[6]\n",
    "    trading_volume[date] = trading_vol"
   ]
  },
  {
   "cell_type": "code",
   "execution_count": 15,
   "id": "3c8b6a1b",
   "metadata": {},
   "outputs": [
    {
     "data": {
      "text/plain": [
       "89124.34"
      ]
     },
     "execution_count": 15,
     "metadata": {},
     "output_type": "execute_result"
    }
   ],
   "source": [
    "sum_val = sum(trading_volume.values())\n",
    "len_dict = len(trading_volume)\n",
    "average_tr = sum_val/len_dict\n",
    "average_tr = float(\"{:.2f}\".format(average_tr))\n",
    "average_tr"
   ]
  },
  {
   "cell_type": "markdown",
   "id": "96e7df6d",
   "metadata": {},
   "source": [
    "### The average daily trading volume during the year was 89124.34$"
   ]
  },
  {
   "cell_type": "code",
   "execution_count": 16,
   "id": "ee8fda26",
   "metadata": {},
   "outputs": [
    {
     "name": "stdout",
     "output_type": "stream",
     "text": [
      "76600.0\n"
     ]
    }
   ],
   "source": [
    "#(Optional) What was the median trading volume during this year. \n",
    "#(Note: you may need to implement your own function for calculating the median.)\n",
    "def median_number(dictionary):\n",
    "    sorted_val = sorted(dictionary.values())\n",
    "    length = len(sorted_val)\n",
    "    if length%2 != 0:\n",
    "        median_index = int((length+1)/2)\n",
    "        print(sorted_val[median_index])\n",
    "    else:\n",
    "        first_n = length/2\n",
    "        second_n = (length/2)+1\n",
    "        median_index = int((first_n+second_n)/2)\n",
    "        print(sorted_val[median_index])\n",
    "median_number(trading_volume)"
   ]
  },
  {
   "cell_type": "markdown",
   "id": "c37f4d56",
   "metadata": {},
   "source": [
    "### The median trading volume: 76600.0$"
   ]
  }
 ],
 "metadata": {
  "kernelspec": {
   "display_name": "Python 3 (ipykernel)",
   "language": "python",
   "name": "python3"
  },
  "language_info": {
   "codemirror_mode": {
    "name": "ipython",
    "version": 3
   },
   "file_extension": ".py",
   "mimetype": "text/x-python",
   "name": "python",
   "nbconvert_exporter": "python",
   "pygments_lexer": "ipython3",
   "version": "3.9.7"
  }
 },
 "nbformat": 4,
 "nbformat_minor": 5
}
